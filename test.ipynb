{
 "cells": [
  {
   "cell_type": "code",
   "execution_count": 6,
   "metadata": {},
   "outputs": [
    {
     "name": "stdout",
     "output_type": "stream",
     "text": [
      "2024-02-18_17;05;08\n"
     ]
    }
   ],
   "source": [
    "from datetime import datetime, date, timedelta, time\n",
    "\n",
    "path = \"./logs/motion_frames/\"\n",
    "timestamp = str(datetime.now())[:19].replace(\":\",\";\").replace(\" \", \"_\")\n",
    "print(timestamp)"
   ]
  }
 ],
 "metadata": {
  "kernelspec": {
   "display_name": "CM3070_FinalProject",
   "language": "python",
   "name": "python3"
  },
  "language_info": {
   "codemirror_mode": {
    "name": "ipython",
    "version": 3
   },
   "file_extension": ".py",
   "mimetype": "text/x-python",
   "name": "python",
   "nbconvert_exporter": "python",
   "pygments_lexer": "ipython3",
   "version": "3.10.7"
  }
 },
 "nbformat": 4,
 "nbformat_minor": 2
}
