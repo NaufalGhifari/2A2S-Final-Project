{
 "cells": [
  {
   "cell_type": "code",
   "execution_count": 15,
   "metadata": {},
   "outputs": [
    {
     "data": {
      "text/plain": [
       "True"
      ]
     },
     "execution_count": 15,
     "metadata": {},
     "output_type": "execute_result"
    }
   ],
   "source": [
    "from datetime import datetime, time\n",
    "\n",
    "def check_isSendingAlerts():\n",
    "    \"\"\"\n",
    "    Checks if self.isSendingAlerts should be True or False depending on the current time.\n",
    "    Return: Boolean\n",
    "    \"\"\"\n",
    "    start_time = \"12:00\"\n",
    "    end_time = \"13:00\"\n",
    "\n",
    "    start_hour = int(start_time.split(\":\")[0])\n",
    "    start_min = int(start_time.split(\":\")[1])\n",
    "\n",
    "    end_hour = int(end_time.split(\":\")[0])\n",
    "    end_min = int(end_time.split(\":\")[1])\n",
    "\n",
    "    # process the times\n",
    "    start = time(hour=start_hour, minute=start_min, second=00)\n",
    "    end = time(hour=end_hour, minute=end_min, second=00)\n",
    "    now = datetime.now().time()\n",
    "\n",
    "    if start < end:\n",
    "        return start <= now <= end\n",
    "    else:\n",
    "        return now >= start or now <= end\n",
    "\n",
    "check_isSendingAlerts()\n"
   ]
  },
  {
   "cell_type": "code",
   "execution_count": 5,
   "metadata": {},
   "outputs": [
    {
     "name": "stdout",
     "output_type": "stream",
     "text": [
      "12:36:43.805106\n"
     ]
    }
   ],
   "source": [
    "print(datetime.now().time())"
   ]
  },
  {
   "cell_type": "code",
   "execution_count": 6,
   "metadata": {},
   "outputs": [
    {
     "name": "stdout",
     "output_type": "stream",
     "text": [
      "17:23\n",
      "20:35\n"
     ]
    }
   ],
   "source": [
    "s = \"17:23\"\n",
    "e = \"20:35\"\n",
    "\n",
    "start_h = s[:2]\n",
    "start_m = s[3:]\n",
    "end_h = e[:2]\n",
    "end_m = e[3:]\n",
    "\n",
    "# store times into a list\n",
    "hours = [int(start_h), int(end_h)]\n",
    "minutes = [int(start_m), int(end_m)]\n",
    "\n",
    "# values too large or too small\n",
    "if max(hours) > 24 or min(hours) < 0 or max(minutes) > 59 or min(minutes) < 0:\n",
    "    raise ValueError('GUI_2A2S.update_isSendingAlert_time: \\'times\\' list contains invalid value(s)')\n",
    "\n",
    "# values are good to go\n",
    "else:\n",
    "    print(f\"{hours[0]}:{minutes[0]}\")\n",
    "    print(f\"{hours[1]}:{minutes[1]}\")"
   ]
  }
 ],
 "metadata": {
  "kernelspec": {
   "display_name": "CM3070_FinalProject",
   "language": "python",
   "name": "python3"
  },
  "language_info": {
   "codemirror_mode": {
    "name": "ipython",
    "version": 3
   },
   "file_extension": ".py",
   "mimetype": "text/x-python",
   "name": "python",
   "nbconvert_exporter": "python",
   "pygments_lexer": "ipython3",
   "version": "3.10.7"
  }
 },
 "nbformat": 4,
 "nbformat_minor": 2
}
